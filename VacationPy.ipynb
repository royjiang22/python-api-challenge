{
 "cells": [
  {
   "cell_type": "markdown",
   "metadata": {},
   "source": [
    "# VacationPy\n",
    "----\n",
    "\n",
    "#### Note\n",
    "* Keep an eye on your API usage. Use https://developers.google.com/maps/reporting/gmp-reporting as reference for how to monitor your usage and billing.\n",
    "\n",
    "* Instructions have been included for each segment. You do not have to follow them exactly, but they are included to help you think through the steps."
   ]
  },
  {
   "cell_type": "code",
   "execution_count": 1,
   "metadata": {},
   "outputs": [],
   "source": [
    "# Dependencies and Setup\n",
    "import matplotlib.pyplot as plt\n",
    "import pandas as pd\n",
    "import numpy as np\n",
    "import requests\n",
    "import gmaps\n",
    "import os\n",
    "\n",
    "# Import API key\n",
    "from api_keys import g_key"
   ]
  },
  {
   "cell_type": "markdown",
   "metadata": {},
   "source": [
    "### Store Part I results into DataFrame\n",
    "* Load the csv exported in Part I to a DataFrame"
   ]
  },
  {
   "cell_type": "code",
   "execution_count": 2,
   "metadata": {},
   "outputs": [
    {
     "output_type": "execute_result",
     "data": {
      "text/plain": [
       "            City      Lat       Lng  Max_Temp  Humidity  Cloudiness  \\\n",
       "0          Kapaa  22.0752 -159.3190     80.24        74          40   \n",
       "1  Pacific Grove  36.6177 -121.9166     62.91        56           0   \n",
       "2       Tasiilaq  65.6145  -37.6368     39.36        81         100   \n",
       "3         Rørvik  64.8621   11.2373     19.51        86           2   \n",
       "4        Ushuaia -54.8000  -68.3000     46.06        71          40   \n",
       "\n",
       "   Wind_Speed  Country_Date  \n",
       "0       17.27    1668989700  \n",
       "1        3.44    1668989700  \n",
       "2       16.64    1668989701  \n",
       "3        0.00    1668989702  \n",
       "4        8.05    1668989701  "
      ],
      "text/html": "<div>\n<style scoped>\n    .dataframe tbody tr th:only-of-type {\n        vertical-align: middle;\n    }\n\n    .dataframe tbody tr th {\n        vertical-align: top;\n    }\n\n    .dataframe thead th {\n        text-align: right;\n    }\n</style>\n<table border=\"1\" class=\"dataframe\">\n  <thead>\n    <tr style=\"text-align: right;\">\n      <th></th>\n      <th>City</th>\n      <th>Lat</th>\n      <th>Lng</th>\n      <th>Max_Temp</th>\n      <th>Humidity</th>\n      <th>Cloudiness</th>\n      <th>Wind_Speed</th>\n      <th>Country_Date</th>\n    </tr>\n  </thead>\n  <tbody>\n    <tr>\n      <th>0</th>\n      <td>Kapaa</td>\n      <td>22.0752</td>\n      <td>-159.3190</td>\n      <td>80.24</td>\n      <td>74</td>\n      <td>40</td>\n      <td>17.27</td>\n      <td>1668989700</td>\n    </tr>\n    <tr>\n      <th>1</th>\n      <td>Pacific Grove</td>\n      <td>36.6177</td>\n      <td>-121.9166</td>\n      <td>62.91</td>\n      <td>56</td>\n      <td>0</td>\n      <td>3.44</td>\n      <td>1668989700</td>\n    </tr>\n    <tr>\n      <th>2</th>\n      <td>Tasiilaq</td>\n      <td>65.6145</td>\n      <td>-37.6368</td>\n      <td>39.36</td>\n      <td>81</td>\n      <td>100</td>\n      <td>16.64</td>\n      <td>1668989701</td>\n    </tr>\n    <tr>\n      <th>3</th>\n      <td>Rørvik</td>\n      <td>64.8621</td>\n      <td>11.2373</td>\n      <td>19.51</td>\n      <td>86</td>\n      <td>2</td>\n      <td>0.00</td>\n      <td>1668989702</td>\n    </tr>\n    <tr>\n      <th>4</th>\n      <td>Ushuaia</td>\n      <td>-54.8000</td>\n      <td>-68.3000</td>\n      <td>46.06</td>\n      <td>71</td>\n      <td>40</td>\n      <td>8.05</td>\n      <td>1668989701</td>\n    </tr>\n  </tbody>\n</table>\n</div>"
     },
     "metadata": {},
     "execution_count": 2
    }
   ],
   "source": [
    "\n",
    "output_data_file_part2 = '/Users/royjiang/Desktop/UCI-VIRT-DATA-PT-10-2022-U-LOLC/module6startercode/Instructions/output_data/city_weather_part1_data.csv'\n",
    "output_data_part2 = pd.read_csv(output_data_file_part2)\n",
    "output_data_part2.head()"
   ]
  },
  {
   "cell_type": "markdown",
   "metadata": {},
   "source": [
    "### Humidity Heatmap\n",
    "* Configure gmaps.\n",
    "* Use the Lat and Lng as locations and Humidity as the weight.\n",
    "* Add Heatmap layer to map."
   ]
  },
  {
   "cell_type": "code",
   "execution_count": 3,
   "metadata": {},
   "outputs": [
    {
     "output_type": "execute_result",
     "data": {
      "text/plain": [
       "         Lat       Lng\n",
       "0    22.0752 -159.3190\n",
       "1    36.6177 -121.9166\n",
       "2    65.6145  -37.6368\n",
       "3    64.8621   11.2373\n",
       "4   -54.8000  -68.3000\n",
       "..       ...       ...\n",
       "563  32.4488  -81.7832\n",
       "564 -22.4500   18.9667\n",
       "565  31.3525   27.2453\n",
       "566  58.1394   52.6584\n",
       "567   9.2333   29.8333\n",
       "\n",
       "[568 rows x 2 columns]"
      ],
      "text/html": "<div>\n<style scoped>\n    .dataframe tbody tr th:only-of-type {\n        vertical-align: middle;\n    }\n\n    .dataframe tbody tr th {\n        vertical-align: top;\n    }\n\n    .dataframe thead th {\n        text-align: right;\n    }\n</style>\n<table border=\"1\" class=\"dataframe\">\n  <thead>\n    <tr style=\"text-align: right;\">\n      <th></th>\n      <th>Lat</th>\n      <th>Lng</th>\n    </tr>\n  </thead>\n  <tbody>\n    <tr>\n      <th>0</th>\n      <td>22.0752</td>\n      <td>-159.3190</td>\n    </tr>\n    <tr>\n      <th>1</th>\n      <td>36.6177</td>\n      <td>-121.9166</td>\n    </tr>\n    <tr>\n      <th>2</th>\n      <td>65.6145</td>\n      <td>-37.6368</td>\n    </tr>\n    <tr>\n      <th>3</th>\n      <td>64.8621</td>\n      <td>11.2373</td>\n    </tr>\n    <tr>\n      <th>4</th>\n      <td>-54.8000</td>\n      <td>-68.3000</td>\n    </tr>\n    <tr>\n      <th>...</th>\n      <td>...</td>\n      <td>...</td>\n    </tr>\n    <tr>\n      <th>563</th>\n      <td>32.4488</td>\n      <td>-81.7832</td>\n    </tr>\n    <tr>\n      <th>564</th>\n      <td>-22.4500</td>\n      <td>18.9667</td>\n    </tr>\n    <tr>\n      <th>565</th>\n      <td>31.3525</td>\n      <td>27.2453</td>\n    </tr>\n    <tr>\n      <th>566</th>\n      <td>58.1394</td>\n      <td>52.6584</td>\n    </tr>\n    <tr>\n      <th>567</th>\n      <td>9.2333</td>\n      <td>29.8333</td>\n    </tr>\n  </tbody>\n</table>\n<p>568 rows × 2 columns</p>\n</div>"
     },
     "metadata": {},
     "execution_count": 3
    }
   ],
   "source": [
    "location = output_data_part2[['Lat', 'Lng']].astype(float)\n",
    "location"
   ]
  },
  {
   "cell_type": "code",
   "execution_count": 4,
   "metadata": {},
   "outputs": [],
   "source": [
    "gmaps.configure(api_key=g_key)"
   ]
  },
  {
   "cell_type": "code",
   "execution_count": 5,
   "metadata": {},
   "outputs": [],
   "source": [
    "output_data_part2 = output_data_part2.dropna()\n",
    "humidity = output_data_part2[\"Humidity\"].astype(float)"
   ]
  },
  {
   "cell_type": "code",
   "execution_count": 7,
   "metadata": {},
   "outputs": [
    {
     "output_type": "display_data",
     "data": {
      "text/plain": "Figure(layout=FigureLayout(border='1px solid black', height='500px', padding='1px', width='500px'))",
      "application/vnd.jupyter.widget-view+json": {
       "version_major": 2,
       "version_minor": 0,
       "model_id": "abe283ee41d446688375d13ab4350318"
      }
     },
     "metadata": {}
    }
   ],
   "source": [
    "figure_layout = {\n",
    "'width': '500px',\n",
    "'height': '500px',\n",
    "'border': '1px solid black',\n",
    "'padding': '1px'\n",
    "}\n",
    "fig = gmaps.figure(layout=figure_layout)\n",
    "heatmap_layer = gmaps.heatmap_layer(location, weights=humidity, \n",
    "                                 dissipating=False, max_intensity=100,\n",
    "                                 point_radius = 1)\n",
    "fig.add_layer(heatmap_layer)\n",
    "fig"
   ]
  },
  {
   "cell_type": "markdown",
   "metadata": {},
   "source": [
    "### Create new DataFrame fitting weather criteria\n",
    "* Narrow down the cities to fit weather conditions.\n",
    "* Drop any rows will null values."
   ]
  },
  {
   "cell_type": "code",
   "execution_count": 10,
   "metadata": {},
   "outputs": [
    {
     "output_type": "execute_result",
     "data": {
      "text/plain": [
       "            City      Lat       Lng  Max_Temp  Humidity  Cloudiness  \\\n",
       "10       Dolores -36.3132  -57.6792     61.36        97         100   \n",
       "34   Port Alfred -33.5906   26.8910     58.17        93          17   \n",
       "38   East London -33.0153   27.9116     61.50        81          12   \n",
       "39        Castro -24.7911  -50.0119     62.17        93          74   \n",
       "65      Katsuura  35.1333  140.3000     59.74        94         100   \n",
       "112     Hermanus -34.4187   19.2345     54.81        82           2   \n",
       "164      Hualmay -11.0964  -77.6139     65.08        83          86   \n",
       "210     Babayurt  43.6002   46.7789     52.39        82          87   \n",
       "238       Gunjur  13.2019  -16.7339     69.87        94           0   \n",
       "314     Coquimbo -29.9533  -71.3436     58.73        88           0   \n",
       "325    Barbacena -21.2258  -43.7736     59.49        93          18   \n",
       "367         Hede  33.7681  120.2517     59.18        89         100   \n",
       "371        Izumo  35.3667  132.7667     53.49        94          75   \n",
       "381       Shingū  33.7333  135.9833     61.54        91         100   \n",
       "415  Arivonimamo -19.0167   47.1833     62.65        92          59   \n",
       "463        Morón -34.6534  -58.6198     67.05        82         100   \n",
       "\n",
       "     Wind_Speed  Country_Date  \n",
       "10         8.28    1668989705  \n",
       "34         7.31    1668989715  \n",
       "38         8.95    1668989716  \n",
       "39         7.90    1668989717  \n",
       "65         7.94    1668989727  \n",
       "112        7.05    1668989742  \n",
       "164        7.25    1668989761  \n",
       "210        8.97    1668989779  \n",
       "238        6.91    1668989789  \n",
       "314        8.05    1668989816  \n",
       "325        5.17    1668989820  \n",
       "367        5.39    1668989836  \n",
       "371        5.75    1668989838  \n",
       "381        5.32    1668989841  \n",
       "415        5.97    1668989853  \n",
       "463        8.88    1668989870  "
      ],
      "text/html": "<div>\n<style scoped>\n    .dataframe tbody tr th:only-of-type {\n        vertical-align: middle;\n    }\n\n    .dataframe tbody tr th {\n        vertical-align: top;\n    }\n\n    .dataframe thead th {\n        text-align: right;\n    }\n</style>\n<table border=\"1\" class=\"dataframe\">\n  <thead>\n    <tr style=\"text-align: right;\">\n      <th></th>\n      <th>City</th>\n      <th>Lat</th>\n      <th>Lng</th>\n      <th>Max_Temp</th>\n      <th>Humidity</th>\n      <th>Cloudiness</th>\n      <th>Wind_Speed</th>\n      <th>Country_Date</th>\n    </tr>\n  </thead>\n  <tbody>\n    <tr>\n      <th>10</th>\n      <td>Dolores</td>\n      <td>-36.3132</td>\n      <td>-57.6792</td>\n      <td>61.36</td>\n      <td>97</td>\n      <td>100</td>\n      <td>8.28</td>\n      <td>1668989705</td>\n    </tr>\n    <tr>\n      <th>34</th>\n      <td>Port Alfred</td>\n      <td>-33.5906</td>\n      <td>26.8910</td>\n      <td>58.17</td>\n      <td>93</td>\n      <td>17</td>\n      <td>7.31</td>\n      <td>1668989715</td>\n    </tr>\n    <tr>\n      <th>38</th>\n      <td>East London</td>\n      <td>-33.0153</td>\n      <td>27.9116</td>\n      <td>61.50</td>\n      <td>81</td>\n      <td>12</td>\n      <td>8.95</td>\n      <td>1668989716</td>\n    </tr>\n    <tr>\n      <th>39</th>\n      <td>Castro</td>\n      <td>-24.7911</td>\n      <td>-50.0119</td>\n      <td>62.17</td>\n      <td>93</td>\n      <td>74</td>\n      <td>7.90</td>\n      <td>1668989717</td>\n    </tr>\n    <tr>\n      <th>65</th>\n      <td>Katsuura</td>\n      <td>35.1333</td>\n      <td>140.3000</td>\n      <td>59.74</td>\n      <td>94</td>\n      <td>100</td>\n      <td>7.94</td>\n      <td>1668989727</td>\n    </tr>\n    <tr>\n      <th>112</th>\n      <td>Hermanus</td>\n      <td>-34.4187</td>\n      <td>19.2345</td>\n      <td>54.81</td>\n      <td>82</td>\n      <td>2</td>\n      <td>7.05</td>\n      <td>1668989742</td>\n    </tr>\n    <tr>\n      <th>164</th>\n      <td>Hualmay</td>\n      <td>-11.0964</td>\n      <td>-77.6139</td>\n      <td>65.08</td>\n      <td>83</td>\n      <td>86</td>\n      <td>7.25</td>\n      <td>1668989761</td>\n    </tr>\n    <tr>\n      <th>210</th>\n      <td>Babayurt</td>\n      <td>43.6002</td>\n      <td>46.7789</td>\n      <td>52.39</td>\n      <td>82</td>\n      <td>87</td>\n      <td>8.97</td>\n      <td>1668989779</td>\n    </tr>\n    <tr>\n      <th>238</th>\n      <td>Gunjur</td>\n      <td>13.2019</td>\n      <td>-16.7339</td>\n      <td>69.87</td>\n      <td>94</td>\n      <td>0</td>\n      <td>6.91</td>\n      <td>1668989789</td>\n    </tr>\n    <tr>\n      <th>314</th>\n      <td>Coquimbo</td>\n      <td>-29.9533</td>\n      <td>-71.3436</td>\n      <td>58.73</td>\n      <td>88</td>\n      <td>0</td>\n      <td>8.05</td>\n      <td>1668989816</td>\n    </tr>\n    <tr>\n      <th>325</th>\n      <td>Barbacena</td>\n      <td>-21.2258</td>\n      <td>-43.7736</td>\n      <td>59.49</td>\n      <td>93</td>\n      <td>18</td>\n      <td>5.17</td>\n      <td>1668989820</td>\n    </tr>\n    <tr>\n      <th>367</th>\n      <td>Hede</td>\n      <td>33.7681</td>\n      <td>120.2517</td>\n      <td>59.18</td>\n      <td>89</td>\n      <td>100</td>\n      <td>5.39</td>\n      <td>1668989836</td>\n    </tr>\n    <tr>\n      <th>371</th>\n      <td>Izumo</td>\n      <td>35.3667</td>\n      <td>132.7667</td>\n      <td>53.49</td>\n      <td>94</td>\n      <td>75</td>\n      <td>5.75</td>\n      <td>1668989838</td>\n    </tr>\n    <tr>\n      <th>381</th>\n      <td>Shingū</td>\n      <td>33.7333</td>\n      <td>135.9833</td>\n      <td>61.54</td>\n      <td>91</td>\n      <td>100</td>\n      <td>5.32</td>\n      <td>1668989841</td>\n    </tr>\n    <tr>\n      <th>415</th>\n      <td>Arivonimamo</td>\n      <td>-19.0167</td>\n      <td>47.1833</td>\n      <td>62.65</td>\n      <td>92</td>\n      <td>59</td>\n      <td>5.97</td>\n      <td>1668989853</td>\n    </tr>\n    <tr>\n      <th>463</th>\n      <td>Morón</td>\n      <td>-34.6534</td>\n      <td>-58.6198</td>\n      <td>67.05</td>\n      <td>82</td>\n      <td>100</td>\n      <td>8.88</td>\n      <td>1668989870</td>\n    </tr>\n  </tbody>\n</table>\n</div>"
     },
     "metadata": {},
     "execution_count": 10
    }
   ],
   "source": [
    "# A max temperature lower than 70 degrees but higher than 50.\n",
    "output_data_part2 = output_data_part2.loc[(output_data_part2[\"Max_Temp\"] < 70) & (output_data_part2[\"Max_Temp\"] > 50)]\n",
    "\n",
    "# Wind speed less than 10 mph but greater than 5.\n",
    "output_data_part2 = output_data_part2.loc[(output_data_part2[\"Wind_Speed\"] < 10) & (output_data_part2[\"Wind_Speed\"] >5)]\n",
    "# humidity greater than 80.\n",
    "output_data_part2 = output_data_part2.loc[output_data_part2[\"Humidity\"] > 80]\n",
    "\n",
    "# Drop any rows with null values\n",
    "output_data_part2 = output_data_part2.dropna()\n",
    "\n",
    "output_data_part2"
   ]
  },
  {
   "cell_type": "markdown",
   "metadata": {},
   "source": [
    "### Hotel Map\n",
    "* Store into variable named `hotel_df`.\n",
    "* Add a \"Hotel Name\" column to the DataFrame.\n",
    "* Set parameters to search for hotels with 5000 meters.\n",
    "* Hit the Google Places API for each city's coordinates.\n",
    "* Store the first Hotel result into the DataFrame.\n",
    "* Plot markers on top of the heatmap."
   ]
  },
  {
   "cell_type": "code",
   "execution_count": 12,
   "metadata": {},
   "outputs": [],
   "source": [
    "hotel_df = output_data_part2"
   ]
  },
  {
   "cell_type": "code",
   "execution_count": 16,
   "metadata": {},
   "outputs": [],
   "source": [
    "import json"
   ]
  },
  {
   "cell_type": "code",
   "execution_count": 22,
   "metadata": {
    "tags": []
   },
   "outputs": [
    {
     "output_type": "stream",
     "name": "stdout",
     "text": [
      "Closest hotel is Howard Johnson By Wyndham Termal Dolores.\n",
      "Closest hotel is MyPond Hotel.\n",
      "Closest hotel is Blue Lagoon Hotel.\n",
      "Closest hotel is Hotel Borgen.\n",
      "Closest hotel is Katsuura Hotel Mikazuki.\n",
      "Closest hotel is Harbour House Hotel.\n",
      "Closest hotel is Hotel Terrazas Del Mar - Huacho.\n",
      "Closest hotel is Комната для намаза.\n",
      "Closest hotel is The Gunjur Project Lodge.\n",
      "Closest hotel is Hotel Club La Serena.\n",
      "Closest hotel is Hotel Master Plaza.\n",
      "Closest hotel is Shell Jiangsu Ancheng City Sheyang County Sun City.\n",
      "Closest hotel is Dormy Inn Izumo.\n",
      "Closest hotel is Hotel New Palace.\n",
      "Closest hotel is LABEL VILLAGE ARIVONIMAMO.\n",
      "Closest hotel is Holiday Inn Buenos Aires Ezeiza Airport, an IHG Hotel.\n"
     ]
    }
   ],
   "source": [
    "# params dictionary to update each iteration\n",
    "params = {\n",
    "    \"radius\": 10000,\n",
    "    \"types\": \"lodging\",\n",
    "    \"keyword\": \"hotel\",\n",
    "    \"key\": g_key\n",
    "}\n",
    "\n",
    "# Use the lat/lng we recovered to identify airports\n",
    "for index, row in hotel_df.iterrows():\n",
    "    # get lat, lng from df\n",
    "    lat = row[\"Lat\"]\n",
    "    lng = row[\"Lng\"]\n",
    "    params[\"location\"] = f\"{lat},{lng}\"\n",
    "    base_url = \"https://maps.googleapis.com/maps/api/place/nearbysearch/json\"\n",
    "    hotel_address = requests.get(base_url, params=params)\n",
    "    hotel_address = hotel_address.json()\n",
    "    result = hotel_address['results']\n",
    "#    print(json.dumps(hotel_address, indent=4, sort_keys=True))\n",
    "    try:\n",
    "        print(f\"Closest hotel is {result[0]['name']}.\")\n",
    "        hotel_df.loc[index, \"Hotel Name\"] = result[0][\"name\"]\n",
    "\n",
    "    except (KeyError, IndexError):\n",
    "        print(\"Missing field/result... skipping.\")"
   ]
  },
  {
   "cell_type": "code",
   "execution_count": 23,
   "metadata": {},
   "outputs": [
    {
     "output_type": "execute_result",
     "data": {
      "text/plain": [
       "            City      Lat       Lng  Max_Temp  Humidity  Cloudiness  \\\n",
       "10       Dolores -36.3132  -57.6792     61.36        97         100   \n",
       "34   Port Alfred -33.5906   26.8910     58.17        93          17   \n",
       "38   East London -33.0153   27.9116     61.50        81          12   \n",
       "39        Castro -24.7911  -50.0119     62.17        93          74   \n",
       "65      Katsuura  35.1333  140.3000     59.74        94         100   \n",
       "112     Hermanus -34.4187   19.2345     54.81        82           2   \n",
       "164      Hualmay -11.0964  -77.6139     65.08        83          86   \n",
       "210     Babayurt  43.6002   46.7789     52.39        82          87   \n",
       "238       Gunjur  13.2019  -16.7339     69.87        94           0   \n",
       "314     Coquimbo -29.9533  -71.3436     58.73        88           0   \n",
       "325    Barbacena -21.2258  -43.7736     59.49        93          18   \n",
       "367         Hede  33.7681  120.2517     59.18        89         100   \n",
       "371        Izumo  35.3667  132.7667     53.49        94          75   \n",
       "381       Shingū  33.7333  135.9833     61.54        91         100   \n",
       "415  Arivonimamo -19.0167   47.1833     62.65        92          59   \n",
       "463        Morón -34.6534  -58.6198     67.05        82         100   \n",
       "\n",
       "     Wind_Speed  Country_Date  \\\n",
       "10         8.28    1668989705   \n",
       "34         7.31    1668989715   \n",
       "38         8.95    1668989716   \n",
       "39         7.90    1668989717   \n",
       "65         7.94    1668989727   \n",
       "112        7.05    1668989742   \n",
       "164        7.25    1668989761   \n",
       "210        8.97    1668989779   \n",
       "238        6.91    1668989789   \n",
       "314        8.05    1668989816   \n",
       "325        5.17    1668989820   \n",
       "367        5.39    1668989836   \n",
       "371        5.75    1668989838   \n",
       "381        5.32    1668989841   \n",
       "415        5.97    1668989853   \n",
       "463        8.88    1668989870   \n",
       "\n",
       "                                            Hotel Name  \n",
       "10            Howard Johnson By Wyndham Termal Dolores  \n",
       "34                                        MyPond Hotel  \n",
       "38                                   Blue Lagoon Hotel  \n",
       "39                                        Hotel Borgen  \n",
       "65                             Katsuura Hotel Mikazuki  \n",
       "112                                Harbour House Hotel  \n",
       "164                    Hotel Terrazas Del Mar - Huacho  \n",
       "210                                 Комната для намаза  \n",
       "238                           The Gunjur Project Lodge  \n",
       "314                               Hotel Club La Serena  \n",
       "325                                 Hotel Master Plaza  \n",
       "367  Shell Jiangsu Ancheng City Sheyang County Sun ...  \n",
       "371                                    Dormy Inn Izumo  \n",
       "381                                   Hotel New Palace  \n",
       "415                          LABEL VILLAGE ARIVONIMAMO  \n",
       "463  Holiday Inn Buenos Aires Ezeiza Airport, an IH...  "
      ],
      "text/html": "<div>\n<style scoped>\n    .dataframe tbody tr th:only-of-type {\n        vertical-align: middle;\n    }\n\n    .dataframe tbody tr th {\n        vertical-align: top;\n    }\n\n    .dataframe thead th {\n        text-align: right;\n    }\n</style>\n<table border=\"1\" class=\"dataframe\">\n  <thead>\n    <tr style=\"text-align: right;\">\n      <th></th>\n      <th>City</th>\n      <th>Lat</th>\n      <th>Lng</th>\n      <th>Max_Temp</th>\n      <th>Humidity</th>\n      <th>Cloudiness</th>\n      <th>Wind_Speed</th>\n      <th>Country_Date</th>\n      <th>Hotel Name</th>\n    </tr>\n  </thead>\n  <tbody>\n    <tr>\n      <th>10</th>\n      <td>Dolores</td>\n      <td>-36.3132</td>\n      <td>-57.6792</td>\n      <td>61.36</td>\n      <td>97</td>\n      <td>100</td>\n      <td>8.28</td>\n      <td>1668989705</td>\n      <td>Howard Johnson By Wyndham Termal Dolores</td>\n    </tr>\n    <tr>\n      <th>34</th>\n      <td>Port Alfred</td>\n      <td>-33.5906</td>\n      <td>26.8910</td>\n      <td>58.17</td>\n      <td>93</td>\n      <td>17</td>\n      <td>7.31</td>\n      <td>1668989715</td>\n      <td>MyPond Hotel</td>\n    </tr>\n    <tr>\n      <th>38</th>\n      <td>East London</td>\n      <td>-33.0153</td>\n      <td>27.9116</td>\n      <td>61.50</td>\n      <td>81</td>\n      <td>12</td>\n      <td>8.95</td>\n      <td>1668989716</td>\n      <td>Blue Lagoon Hotel</td>\n    </tr>\n    <tr>\n      <th>39</th>\n      <td>Castro</td>\n      <td>-24.7911</td>\n      <td>-50.0119</td>\n      <td>62.17</td>\n      <td>93</td>\n      <td>74</td>\n      <td>7.90</td>\n      <td>1668989717</td>\n      <td>Hotel Borgen</td>\n    </tr>\n    <tr>\n      <th>65</th>\n      <td>Katsuura</td>\n      <td>35.1333</td>\n      <td>140.3000</td>\n      <td>59.74</td>\n      <td>94</td>\n      <td>100</td>\n      <td>7.94</td>\n      <td>1668989727</td>\n      <td>Katsuura Hotel Mikazuki</td>\n    </tr>\n    <tr>\n      <th>112</th>\n      <td>Hermanus</td>\n      <td>-34.4187</td>\n      <td>19.2345</td>\n      <td>54.81</td>\n      <td>82</td>\n      <td>2</td>\n      <td>7.05</td>\n      <td>1668989742</td>\n      <td>Harbour House Hotel</td>\n    </tr>\n    <tr>\n      <th>164</th>\n      <td>Hualmay</td>\n      <td>-11.0964</td>\n      <td>-77.6139</td>\n      <td>65.08</td>\n      <td>83</td>\n      <td>86</td>\n      <td>7.25</td>\n      <td>1668989761</td>\n      <td>Hotel Terrazas Del Mar - Huacho</td>\n    </tr>\n    <tr>\n      <th>210</th>\n      <td>Babayurt</td>\n      <td>43.6002</td>\n      <td>46.7789</td>\n      <td>52.39</td>\n      <td>82</td>\n      <td>87</td>\n      <td>8.97</td>\n      <td>1668989779</td>\n      <td>Комната для намаза</td>\n    </tr>\n    <tr>\n      <th>238</th>\n      <td>Gunjur</td>\n      <td>13.2019</td>\n      <td>-16.7339</td>\n      <td>69.87</td>\n      <td>94</td>\n      <td>0</td>\n      <td>6.91</td>\n      <td>1668989789</td>\n      <td>The Gunjur Project Lodge</td>\n    </tr>\n    <tr>\n      <th>314</th>\n      <td>Coquimbo</td>\n      <td>-29.9533</td>\n      <td>-71.3436</td>\n      <td>58.73</td>\n      <td>88</td>\n      <td>0</td>\n      <td>8.05</td>\n      <td>1668989816</td>\n      <td>Hotel Club La Serena</td>\n    </tr>\n    <tr>\n      <th>325</th>\n      <td>Barbacena</td>\n      <td>-21.2258</td>\n      <td>-43.7736</td>\n      <td>59.49</td>\n      <td>93</td>\n      <td>18</td>\n      <td>5.17</td>\n      <td>1668989820</td>\n      <td>Hotel Master Plaza</td>\n    </tr>\n    <tr>\n      <th>367</th>\n      <td>Hede</td>\n      <td>33.7681</td>\n      <td>120.2517</td>\n      <td>59.18</td>\n      <td>89</td>\n      <td>100</td>\n      <td>5.39</td>\n      <td>1668989836</td>\n      <td>Shell Jiangsu Ancheng City Sheyang County Sun ...</td>\n    </tr>\n    <tr>\n      <th>371</th>\n      <td>Izumo</td>\n      <td>35.3667</td>\n      <td>132.7667</td>\n      <td>53.49</td>\n      <td>94</td>\n      <td>75</td>\n      <td>5.75</td>\n      <td>1668989838</td>\n      <td>Dormy Inn Izumo</td>\n    </tr>\n    <tr>\n      <th>381</th>\n      <td>Shingū</td>\n      <td>33.7333</td>\n      <td>135.9833</td>\n      <td>61.54</td>\n      <td>91</td>\n      <td>100</td>\n      <td>5.32</td>\n      <td>1668989841</td>\n      <td>Hotel New Palace</td>\n    </tr>\n    <tr>\n      <th>415</th>\n      <td>Arivonimamo</td>\n      <td>-19.0167</td>\n      <td>47.1833</td>\n      <td>62.65</td>\n      <td>92</td>\n      <td>59</td>\n      <td>5.97</td>\n      <td>1668989853</td>\n      <td>LABEL VILLAGE ARIVONIMAMO</td>\n    </tr>\n    <tr>\n      <th>463</th>\n      <td>Morón</td>\n      <td>-34.6534</td>\n      <td>-58.6198</td>\n      <td>67.05</td>\n      <td>82</td>\n      <td>100</td>\n      <td>8.88</td>\n      <td>1668989870</td>\n      <td>Holiday Inn Buenos Aires Ezeiza Airport, an IH...</td>\n    </tr>\n  </tbody>\n</table>\n</div>"
     },
     "metadata": {},
     "execution_count": 23
    }
   ],
   "source": [
    " hotel_df"
   ]
  },
  {
   "cell_type": "code",
   "execution_count": 26,
   "metadata": {},
   "outputs": [],
   "source": [
    "locations = hotel_df[[\"Lat\", \"Lng\"]]"
   ]
  },
  {
   "cell_type": "code",
   "execution_count": 31,
   "metadata": {},
   "outputs": [],
   "source": [
    "# NOTE: Do not change any of the code in this cell\n",
    "\n",
    "# Using the template add the hotel marks to the heatmap\n",
    "info_box_template = \"\"\"\n",
    "\n",
    "\n",
    "Hotel Name\n",
    "      {Hotel Name}\n",
    "City\n",
    "  {City}\n",
    "Country_Date\n",
    "  {Country_Date} \n",
    "\n",
    "\"\"\"\n",
    "# Store the DataFrame Row\n",
    "# NOTE: be sure to update with your DataFrame name\n",
    "hotel_info = [info_box_template.format(**row) for index, row in hotel_df.iterrows()]\n",
    "locations = hotel_df[[\"Lat\", \"Lng\"]]"
   ]
  },
  {
   "cell_type": "code",
   "execution_count": 33,
   "metadata": {},
   "outputs": [],
   "source": [
    "markers = gmaps.marker_layer(locations)"
   ]
  },
  {
   "cell_type": "code",
   "execution_count": 39,
   "metadata": {},
   "outputs": [
    {
     "output_type": "display_data",
     "data": {
      "text/plain": "Figure(layout=FigureLayout(border='1px solid black', height='500px', padding='1px', width='500px'))",
      "application/vnd.jupyter.widget-view+json": {
       "version_major": 2,
       "version_minor": 0,
       "model_id": "abe283ee41d446688375d13ab4350318"
      }
     },
     "metadata": {}
    }
   ],
   "source": [
    "# Add marker layer ontop of heat map\n",
    "# Create hotel symbol layer\n",
    "hotel_layer = gmaps.symbol_layer(\n",
    "    locations, fill_color='red',\n",
    "    stroke_color='black', scale=2,\n",
    "    info_box_content=hotel_info\n",
    ")\n",
    "# Add the layer to the map\n",
    "fig.add_layer(markers)\n",
    "fig.add_layer(hotel_layer)\n",
    "fig\n",
    "\n",
    "# Display figure\n"
   ]
  },
  {
   "cell_type": "code",
   "execution_count": null,
   "metadata": {},
   "outputs": [],
   "source": []
  }
 ],
 "metadata": {
  "kernelspec": {
   "display_name": "Python 3 (ipykernel)",
   "language": "python",
   "name": "python3"
  },
  "language_info": {
   "codemirror_mode": {
    "name": "ipython",
    "version": 3
   },
   "file_extension": ".py",
   "mimetype": "text/x-python",
   "name": "python",
   "nbconvert_exporter": "python",
   "pygments_lexer": "ipython3",
   "version": "3.9.12-final"
  },
  "latex_envs": {
   "LaTeX_envs_menu_present": true,
   "autoclose": false,
   "autocomplete": true,
   "bibliofile": "biblio.bib",
   "cite_by": "apalike",
   "current_citInitial": 1,
   "eqLabelWithNumbers": true,
   "eqNumInitial": 1,
   "hotkeys": {
    "equation": "Ctrl-E",
    "itemize": "Ctrl-I"
   },
   "labels_anchors": false,
   "latex_user_defs": false,
   "report_style_numbering": false,
   "user_envs_cfg": false
  }
 },
 "nbformat": 4,
 "nbformat_minor": 4
}